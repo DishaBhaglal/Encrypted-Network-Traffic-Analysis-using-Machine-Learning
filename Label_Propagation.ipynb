{
 "cells": [
  {
   "cell_type": "code",
   "execution_count": null,
   "metadata": {
    "id": "ySLxsJHMfnet"
   },
   "outputs": [],
   "source": []
  },
  {
   "cell_type": "markdown",
   "metadata": {
    "id": "INRSiwMsdE-R"
   },
   "source": [
    "# SemiSupervised Learning"
   ]
  },
  {
   "cell_type": "code",
   "execution_count": 1,
   "metadata": {
    "id": "18bqRIzMdA_o"
   },
   "outputs": [],
   "source": [
    "%matplotlib inline"
   ]
  },
  {
   "cell_type": "code",
   "execution_count": 2,
   "metadata": {
    "colab": {
     "base_uri": "https://localhost:8080/"
    },
    "id": "GCIBpVqrdTVt",
    "outputId": "4d61c5ae-1d14-4279-8aee-9eb5f4f3a3ff"
   },
   "outputs": [
    {
     "name": "stderr",
     "output_type": "stream",
     "text": [
      "/usr/local/lib/python3.7/dist-packages/sklearn/externals/six.py:31: FutureWarning: The module is deprecated in version 0.21 and will be removed in version 0.23 since we've dropped support for Python 2.7. Please rely on the official version of six (https://pypi.org/project/six/).\n",
      "  \"(https://pypi.org/project/six/).\", FutureWarning)\n",
      "/usr/local/lib/python3.7/dist-packages/sklearn/utils/deprecation.py:144: FutureWarning: The sklearn.neighbors.base module is  deprecated in version 0.22 and will be removed in version 0.24. The corresponding classes / functions should instead be imported from sklearn.neighbors. Anything that cannot be imported from sklearn.neighbors is now part of the private API.\n",
      "  warnings.warn(message, FutureWarning)\n"
     ]
    }
   ],
   "source": [
    "#import all necessary libraries\n",
    "import pandas as pd\n",
    "import numpy as np\n",
    "import matplotlib as mp\n",
    "from sklearn.model_selection import StratifiedShuffleSplit\n",
    "from sklearn.preprocessing import LabelEncoder, StandardScaler\n",
    "from pandas.plotting import scatter_matrix\n",
    "import matplotlib.pyplot as plt\n",
    "import seaborn as sns\n",
    "from sklearn import metrics\n",
    "from scipy import stats\n",
    "from imblearn.under_sampling import TomekLinks"
   ]
  },
  {
   "cell_type": "code",
   "execution_count": 3,
   "metadata": {
    "id": "Vtl9Wh4Idgfi"
   },
   "outputs": [],
   "source": [
    "ds = pd.read_csv(\"/content/UNSW_NB15_training-set.csv\")"
   ]
  },
  {
   "cell_type": "code",
   "execution_count": 4,
   "metadata": {
    "colab": {
     "base_uri": "https://localhost:8080/",
     "height": 226
    },
    "id": "xtbng9y-eGUD",
    "outputId": "3a15f0dd-f457-4f56-c09e-ff143160fe81"
   },
   "outputs": [
    {
     "data": {
      "text/html": [
       "<div>\n",
       "<style scoped>\n",
       "    .dataframe tbody tr th:only-of-type {\n",
       "        vertical-align: middle;\n",
       "    }\n",
       "\n",
       "    .dataframe tbody tr th {\n",
       "        vertical-align: top;\n",
       "    }\n",
       "\n",
       "    .dataframe thead th {\n",
       "        text-align: right;\n",
       "    }\n",
       "</style>\n",
       "<table border=\"1\" class=\"dataframe\">\n",
       "  <thead>\n",
       "    <tr style=\"text-align: right;\">\n",
       "      <th></th>\n",
       "      <th>id</th>\n",
       "      <th>dur</th>\n",
       "      <th>proto</th>\n",
       "      <th>service</th>\n",
       "      <th>state</th>\n",
       "      <th>spkts</th>\n",
       "      <th>dpkts</th>\n",
       "      <th>sbytes</th>\n",
       "      <th>dbytes</th>\n",
       "      <th>rate</th>\n",
       "      <th>sttl</th>\n",
       "      <th>dttl</th>\n",
       "      <th>sload</th>\n",
       "      <th>dload</th>\n",
       "      <th>sloss</th>\n",
       "      <th>dloss</th>\n",
       "      <th>sinpkt</th>\n",
       "      <th>dinpkt</th>\n",
       "      <th>sjit</th>\n",
       "      <th>djit</th>\n",
       "      <th>swin</th>\n",
       "      <th>stcpb</th>\n",
       "      <th>dtcpb</th>\n",
       "      <th>dwin</th>\n",
       "      <th>tcprtt</th>\n",
       "      <th>synack</th>\n",
       "      <th>ackdat</th>\n",
       "      <th>smean</th>\n",
       "      <th>dmean</th>\n",
       "      <th>trans_depth</th>\n",
       "      <th>response_body_len</th>\n",
       "      <th>ct_srv_src</th>\n",
       "      <th>ct_state_ttl</th>\n",
       "      <th>ct_dst_ltm</th>\n",
       "      <th>ct_src_dport_ltm</th>\n",
       "      <th>ct_dst_sport_ltm</th>\n",
       "      <th>ct_dst_src_ltm</th>\n",
       "      <th>is_ftp_login</th>\n",
       "      <th>ct_ftp_cmd</th>\n",
       "      <th>ct_flw_http_mthd</th>\n",
       "      <th>ct_src_ltm</th>\n",
       "      <th>ct_srv_dst</th>\n",
       "      <th>is_sm_ips_ports</th>\n",
       "      <th>attack_cat</th>\n",
       "      <th>label</th>\n",
       "    </tr>\n",
       "  </thead>\n",
       "  <tbody>\n",
       "    <tr>\n",
       "      <th>0</th>\n",
       "      <td>1</td>\n",
       "      <td>0.121478</td>\n",
       "      <td>tcp</td>\n",
       "      <td>-</td>\n",
       "      <td>FIN</td>\n",
       "      <td>6</td>\n",
       "      <td>4</td>\n",
       "      <td>258</td>\n",
       "      <td>172</td>\n",
       "      <td>74.087490</td>\n",
       "      <td>252</td>\n",
       "      <td>254</td>\n",
       "      <td>14158.942380</td>\n",
       "      <td>8495.365234</td>\n",
       "      <td>0</td>\n",
       "      <td>0</td>\n",
       "      <td>24.295600</td>\n",
       "      <td>8.375000</td>\n",
       "      <td>30.177547</td>\n",
       "      <td>11.830604</td>\n",
       "      <td>255</td>\n",
       "      <td>621772692</td>\n",
       "      <td>2202533631</td>\n",
       "      <td>255</td>\n",
       "      <td>0.000000</td>\n",
       "      <td>0.000000</td>\n",
       "      <td>0.000000</td>\n",
       "      <td>43</td>\n",
       "      <td>43</td>\n",
       "      <td>0</td>\n",
       "      <td>0</td>\n",
       "      <td>1</td>\n",
       "      <td>0</td>\n",
       "      <td>1</td>\n",
       "      <td>1</td>\n",
       "      <td>1</td>\n",
       "      <td>1</td>\n",
       "      <td>0</td>\n",
       "      <td>0</td>\n",
       "      <td>0</td>\n",
       "      <td>1</td>\n",
       "      <td>1</td>\n",
       "      <td>0</td>\n",
       "      <td>Normal</td>\n",
       "      <td>0</td>\n",
       "    </tr>\n",
       "    <tr>\n",
       "      <th>1</th>\n",
       "      <td>2</td>\n",
       "      <td>0.649902</td>\n",
       "      <td>tcp</td>\n",
       "      <td>-</td>\n",
       "      <td>FIN</td>\n",
       "      <td>14</td>\n",
       "      <td>38</td>\n",
       "      <td>734</td>\n",
       "      <td>42014</td>\n",
       "      <td>78.473372</td>\n",
       "      <td>62</td>\n",
       "      <td>252</td>\n",
       "      <td>8395.112305</td>\n",
       "      <td>503571.312500</td>\n",
       "      <td>2</td>\n",
       "      <td>17</td>\n",
       "      <td>49.915000</td>\n",
       "      <td>15.432865</td>\n",
       "      <td>61.426934</td>\n",
       "      <td>1387.778330</td>\n",
       "      <td>255</td>\n",
       "      <td>1417884146</td>\n",
       "      <td>3077387971</td>\n",
       "      <td>255</td>\n",
       "      <td>0.000000</td>\n",
       "      <td>0.000000</td>\n",
       "      <td>0.000000</td>\n",
       "      <td>52</td>\n",
       "      <td>1106</td>\n",
       "      <td>0</td>\n",
       "      <td>0</td>\n",
       "      <td>43</td>\n",
       "      <td>1</td>\n",
       "      <td>1</td>\n",
       "      <td>1</td>\n",
       "      <td>1</td>\n",
       "      <td>2</td>\n",
       "      <td>0</td>\n",
       "      <td>0</td>\n",
       "      <td>0</td>\n",
       "      <td>1</td>\n",
       "      <td>6</td>\n",
       "      <td>0</td>\n",
       "      <td>Normal</td>\n",
       "      <td>0</td>\n",
       "    </tr>\n",
       "    <tr>\n",
       "      <th>2</th>\n",
       "      <td>3</td>\n",
       "      <td>1.623129</td>\n",
       "      <td>tcp</td>\n",
       "      <td>-</td>\n",
       "      <td>FIN</td>\n",
       "      <td>8</td>\n",
       "      <td>16</td>\n",
       "      <td>364</td>\n",
       "      <td>13186</td>\n",
       "      <td>14.170161</td>\n",
       "      <td>62</td>\n",
       "      <td>252</td>\n",
       "      <td>1572.271851</td>\n",
       "      <td>60929.230470</td>\n",
       "      <td>1</td>\n",
       "      <td>6</td>\n",
       "      <td>231.875571</td>\n",
       "      <td>102.737203</td>\n",
       "      <td>17179.586860</td>\n",
       "      <td>11420.926230</td>\n",
       "      <td>255</td>\n",
       "      <td>2116150707</td>\n",
       "      <td>2963114973</td>\n",
       "      <td>255</td>\n",
       "      <td>0.111897</td>\n",
       "      <td>0.061458</td>\n",
       "      <td>0.050439</td>\n",
       "      <td>46</td>\n",
       "      <td>824</td>\n",
       "      <td>0</td>\n",
       "      <td>0</td>\n",
       "      <td>7</td>\n",
       "      <td>1</td>\n",
       "      <td>2</td>\n",
       "      <td>1</td>\n",
       "      <td>1</td>\n",
       "      <td>3</td>\n",
       "      <td>0</td>\n",
       "      <td>0</td>\n",
       "      <td>0</td>\n",
       "      <td>2</td>\n",
       "      <td>6</td>\n",
       "      <td>0</td>\n",
       "      <td>Normal</td>\n",
       "      <td>0</td>\n",
       "    </tr>\n",
       "    <tr>\n",
       "      <th>3</th>\n",
       "      <td>4</td>\n",
       "      <td>1.681642</td>\n",
       "      <td>tcp</td>\n",
       "      <td>ftp</td>\n",
       "      <td>FIN</td>\n",
       "      <td>12</td>\n",
       "      <td>12</td>\n",
       "      <td>628</td>\n",
       "      <td>770</td>\n",
       "      <td>13.677108</td>\n",
       "      <td>62</td>\n",
       "      <td>252</td>\n",
       "      <td>2740.178955</td>\n",
       "      <td>3358.622070</td>\n",
       "      <td>1</td>\n",
       "      <td>3</td>\n",
       "      <td>152.876547</td>\n",
       "      <td>90.235726</td>\n",
       "      <td>259.080172</td>\n",
       "      <td>4991.784669</td>\n",
       "      <td>255</td>\n",
       "      <td>1107119177</td>\n",
       "      <td>1047442890</td>\n",
       "      <td>255</td>\n",
       "      <td>0.000000</td>\n",
       "      <td>0.000000</td>\n",
       "      <td>0.000000</td>\n",
       "      <td>52</td>\n",
       "      <td>64</td>\n",
       "      <td>0</td>\n",
       "      <td>0</td>\n",
       "      <td>1</td>\n",
       "      <td>1</td>\n",
       "      <td>2</td>\n",
       "      <td>1</td>\n",
       "      <td>1</td>\n",
       "      <td>3</td>\n",
       "      <td>1</td>\n",
       "      <td>1</td>\n",
       "      <td>0</td>\n",
       "      <td>2</td>\n",
       "      <td>1</td>\n",
       "      <td>0</td>\n",
       "      <td>Normal</td>\n",
       "      <td>0</td>\n",
       "    </tr>\n",
       "    <tr>\n",
       "      <th>4</th>\n",
       "      <td>5</td>\n",
       "      <td>0.449454</td>\n",
       "      <td>tcp</td>\n",
       "      <td>-</td>\n",
       "      <td>FIN</td>\n",
       "      <td>10</td>\n",
       "      <td>6</td>\n",
       "      <td>534</td>\n",
       "      <td>268</td>\n",
       "      <td>33.373826</td>\n",
       "      <td>254</td>\n",
       "      <td>252</td>\n",
       "      <td>8561.499023</td>\n",
       "      <td>3987.059814</td>\n",
       "      <td>2</td>\n",
       "      <td>1</td>\n",
       "      <td>47.750333</td>\n",
       "      <td>75.659602</td>\n",
       "      <td>2415.837634</td>\n",
       "      <td>115.807000</td>\n",
       "      <td>255</td>\n",
       "      <td>2436137549</td>\n",
       "      <td>1977154190</td>\n",
       "      <td>255</td>\n",
       "      <td>0.128381</td>\n",
       "      <td>0.071147</td>\n",
       "      <td>0.057234</td>\n",
       "      <td>53</td>\n",
       "      <td>45</td>\n",
       "      <td>0</td>\n",
       "      <td>0</td>\n",
       "      <td>43</td>\n",
       "      <td>1</td>\n",
       "      <td>2</td>\n",
       "      <td>2</td>\n",
       "      <td>1</td>\n",
       "      <td>40</td>\n",
       "      <td>0</td>\n",
       "      <td>0</td>\n",
       "      <td>0</td>\n",
       "      <td>2</td>\n",
       "      <td>39</td>\n",
       "      <td>0</td>\n",
       "      <td>Normal</td>\n",
       "      <td>0</td>\n",
       "    </tr>\n",
       "  </tbody>\n",
       "</table>\n",
       "</div>"
      ],
      "text/plain": [
       "   id       dur proto service  ... ct_srv_dst  is_sm_ips_ports  attack_cat  label\n",
       "0   1  0.121478   tcp       -  ...          1                0      Normal      0\n",
       "1   2  0.649902   tcp       -  ...          6                0      Normal      0\n",
       "2   3  1.623129   tcp       -  ...          6                0      Normal      0\n",
       "3   4  1.681642   tcp     ftp  ...          1                0      Normal      0\n",
       "4   5  0.449454   tcp       -  ...         39                0      Normal      0\n",
       "\n",
       "[5 rows x 45 columns]"
      ]
     },
     "execution_count": 4,
     "metadata": {
      "tags": []
     },
     "output_type": "execute_result"
    }
   ],
   "source": [
    "ds.head()"
   ]
  },
  {
   "cell_type": "code",
   "execution_count": 5,
   "metadata": {
    "colab": {
     "base_uri": "https://localhost:8080/"
    },
    "id": "OWZOGPeXeYZO",
    "outputId": "5268aeef-e98b-40ea-a1f7-7d2a7a105285"
   },
   "outputs": [
    {
     "name": "stdout",
     "output_type": "stream",
     "text": [
      "<class 'pandas.core.frame.DataFrame'>\n",
      "RangeIndex: 175341 entries, 0 to 175340\n",
      "Data columns (total 45 columns):\n",
      " #   Column             Non-Null Count   Dtype  \n",
      "---  ------             --------------   -----  \n",
      " 0   id                 175341 non-null  int64  \n",
      " 1   dur                175341 non-null  float64\n",
      " 2   proto              175341 non-null  object \n",
      " 3   service            175341 non-null  object \n",
      " 4   state              175341 non-null  object \n",
      " 5   spkts              175341 non-null  int64  \n",
      " 6   dpkts              175341 non-null  int64  \n",
      " 7   sbytes             175341 non-null  int64  \n",
      " 8   dbytes             175341 non-null  int64  \n",
      " 9   rate               175341 non-null  float64\n",
      " 10  sttl               175341 non-null  int64  \n",
      " 11  dttl               175341 non-null  int64  \n",
      " 12  sload              175341 non-null  float64\n",
      " 13  dload              175341 non-null  float64\n",
      " 14  sloss              175341 non-null  int64  \n",
      " 15  dloss              175341 non-null  int64  \n",
      " 16  sinpkt             175341 non-null  float64\n",
      " 17  dinpkt             175341 non-null  float64\n",
      " 18  sjit               175341 non-null  float64\n",
      " 19  djit               175341 non-null  float64\n",
      " 20  swin               175341 non-null  int64  \n",
      " 21  stcpb              175341 non-null  int64  \n",
      " 22  dtcpb              175341 non-null  int64  \n",
      " 23  dwin               175341 non-null  int64  \n",
      " 24  tcprtt             175341 non-null  float64\n",
      " 25  synack             175341 non-null  float64\n",
      " 26  ackdat             175341 non-null  float64\n",
      " 27  smean              175341 non-null  int64  \n",
      " 28  dmean              175341 non-null  int64  \n",
      " 29  trans_depth        175341 non-null  int64  \n",
      " 30  response_body_len  175341 non-null  int64  \n",
      " 31  ct_srv_src         175341 non-null  int64  \n",
      " 32  ct_state_ttl       175341 non-null  int64  \n",
      " 33  ct_dst_ltm         175341 non-null  int64  \n",
      " 34  ct_src_dport_ltm   175341 non-null  int64  \n",
      " 35  ct_dst_sport_ltm   175341 non-null  int64  \n",
      " 36  ct_dst_src_ltm     175341 non-null  int64  \n",
      " 37  is_ftp_login       175341 non-null  int64  \n",
      " 38  ct_ftp_cmd         175341 non-null  int64  \n",
      " 39  ct_flw_http_mthd   175341 non-null  int64  \n",
      " 40  ct_src_ltm         175341 non-null  int64  \n",
      " 41  ct_srv_dst         175341 non-null  int64  \n",
      " 42  is_sm_ips_ports    175341 non-null  int64  \n",
      " 43  attack_cat         175341 non-null  object \n",
      " 44  label              175341 non-null  int64  \n",
      "dtypes: float64(11), int64(30), object(4)\n",
      "memory usage: 60.2+ MB\n"
     ]
    }
   ],
   "source": [
    "ds.info()"
   ]
  },
  {
   "cell_type": "code",
   "execution_count": 6,
   "metadata": {
    "colab": {
     "base_uri": "https://localhost:8080/"
    },
    "id": "l_pnOswpeiF5",
    "outputId": "581885a4-87e9-47d5-8eee-f55c5dadf160"
   },
   "outputs": [
    {
     "data": {
      "text/plain": [
       "Normal            56000\n",
       "Generic           40000\n",
       "Exploits          33393\n",
       "Fuzzers           18184\n",
       "DoS               12264\n",
       "Reconnaissance    10491\n",
       "Analysis           2000\n",
       "Backdoor           1746\n",
       "Shellcode          1133\n",
       "Worms               130\n",
       "Name: attack_cat, dtype: int64"
      ]
     },
     "execution_count": 6,
     "metadata": {
      "tags": []
     },
     "output_type": "execute_result"
    }
   ],
   "source": [
    "ds['attack_cat'].value_counts()"
   ]
  },
  {
   "cell_type": "code",
   "execution_count": 7,
   "metadata": {
    "colab": {
     "base_uri": "https://localhost:8080/"
    },
    "id": "WgAdMHzrfz7O",
    "outputId": "ac083ddf-7584-4a63-f831-04afec484e42"
   },
   "outputs": [
    {
     "data": {
      "text/plain": [
       "tcp        79946\n",
       "udp        63283\n",
       "unas       12084\n",
       "arp         2859\n",
       "ospf        2595\n",
       "           ...  \n",
       "hmp           98\n",
       "bbn-rcc       98\n",
       "igmp          18\n",
       "icmp          15\n",
       "rtp            1\n",
       "Name: proto, Length: 133, dtype: int64"
      ]
     },
     "execution_count": 7,
     "metadata": {
      "tags": []
     },
     "output_type": "execute_result"
    }
   ],
   "source": [
    "ds['proto'].value_counts()"
   ]
  },
  {
   "cell_type": "code",
   "execution_count": 8,
   "metadata": {
    "colab": {
     "base_uri": "https://localhost:8080/"
    },
    "id": "azYzKhFMgEZw",
    "outputId": "19ad42a4-0908-450f-c78a-f50e733dd89c"
   },
   "outputs": [
    {
     "data": {
      "text/plain": [
       "-           94168\n",
       "dns         47294\n",
       "http        18724\n",
       "smtp         5058\n",
       "ftp-data     3995\n",
       "ftp          3428\n",
       "ssh          1302\n",
       "pop3         1105\n",
       "dhcp           94\n",
       "snmp           80\n",
       "ssl            56\n",
       "irc            25\n",
       "radius         12\n",
       "Name: service, dtype: int64"
      ]
     },
     "execution_count": 8,
     "metadata": {
      "tags": []
     },
     "output_type": "execute_result"
    }
   ],
   "source": [
    "ds['service'].value_counts()"
   ]
  },
  {
   "cell_type": "code",
   "execution_count": 9,
   "metadata": {
    "colab": {
     "base_uri": "https://localhost:8080/"
    },
    "id": "jIF9kz2igMNx",
    "outputId": "8c2f2e83-8854-4e6a-f387-11a084e41755"
   },
   "outputs": [
    {
     "data": {
      "text/plain": [
       "INT    82275\n",
       "FIN    77825\n",
       "CON    13152\n",
       "REQ     1991\n",
       "RST       83\n",
       "ECO       12\n",
       "PAR        1\n",
       "URN        1\n",
       "no         1\n",
       "Name: state, dtype: int64"
      ]
     },
     "execution_count": 9,
     "metadata": {
      "tags": []
     },
     "output_type": "execute_result"
    }
   ],
   "source": [
    "ds['state'].value_counts()"
   ]
  },
  {
   "cell_type": "code",
   "execution_count": 10,
   "metadata": {
    "id": "Oaj2bFvKgSBb"
   },
   "outputs": [],
   "source": [
    "label = LabelEncoder()\n",
    "ds['attack_cat']=label.fit_transform(ds['attack_cat'])\n",
    "ds['proto']=label.fit_transform(ds['proto'])\n",
    "ds['service']=label.fit_transform(ds['service'])\n",
    "ds['state']=label.fit_transform(ds['state'])\n",
    "ds.drop(columns = ['id','label'], inplace = True)"
   ]
  },
  {
   "cell_type": "code",
   "execution_count": 11,
   "metadata": {
    "colab": {
     "base_uri": "https://localhost:8080/"
    },
    "id": "I2Csghsrgwd-",
    "outputId": "960602df-bc97-4e0f-b72d-c37dce77cde7"
   },
   "outputs": [
    {
     "name": "stdout",
     "output_type": "stream",
     "text": [
      "<class 'pandas.core.frame.DataFrame'>\n",
      "RangeIndex: 175341 entries, 0 to 175340\n",
      "Data columns (total 43 columns):\n",
      " #   Column             Non-Null Count   Dtype  \n",
      "---  ------             --------------   -----  \n",
      " 0   dur                175341 non-null  float64\n",
      " 1   proto              175341 non-null  int64  \n",
      " 2   service            175341 non-null  int64  \n",
      " 3   state              175341 non-null  int64  \n",
      " 4   spkts              175341 non-null  int64  \n",
      " 5   dpkts              175341 non-null  int64  \n",
      " 6   sbytes             175341 non-null  int64  \n",
      " 7   dbytes             175341 non-null  int64  \n",
      " 8   rate               175341 non-null  float64\n",
      " 9   sttl               175341 non-null  int64  \n",
      " 10  dttl               175341 non-null  int64  \n",
      " 11  sload              175341 non-null  float64\n",
      " 12  dload              175341 non-null  float64\n",
      " 13  sloss              175341 non-null  int64  \n",
      " 14  dloss              175341 non-null  int64  \n",
      " 15  sinpkt             175341 non-null  float64\n",
      " 16  dinpkt             175341 non-null  float64\n",
      " 17  sjit               175341 non-null  float64\n",
      " 18  djit               175341 non-null  float64\n",
      " 19  swin               175341 non-null  int64  \n",
      " 20  stcpb              175341 non-null  int64  \n",
      " 21  dtcpb              175341 non-null  int64  \n",
      " 22  dwin               175341 non-null  int64  \n",
      " 23  tcprtt             175341 non-null  float64\n",
      " 24  synack             175341 non-null  float64\n",
      " 25  ackdat             175341 non-null  float64\n",
      " 26  smean              175341 non-null  int64  \n",
      " 27  dmean              175341 non-null  int64  \n",
      " 28  trans_depth        175341 non-null  int64  \n",
      " 29  response_body_len  175341 non-null  int64  \n",
      " 30  ct_srv_src         175341 non-null  int64  \n",
      " 31  ct_state_ttl       175341 non-null  int64  \n",
      " 32  ct_dst_ltm         175341 non-null  int64  \n",
      " 33  ct_src_dport_ltm   175341 non-null  int64  \n",
      " 34  ct_dst_sport_ltm   175341 non-null  int64  \n",
      " 35  ct_dst_src_ltm     175341 non-null  int64  \n",
      " 36  is_ftp_login       175341 non-null  int64  \n",
      " 37  ct_ftp_cmd         175341 non-null  int64  \n",
      " 38  ct_flw_http_mthd   175341 non-null  int64  \n",
      " 39  ct_src_ltm         175341 non-null  int64  \n",
      " 40  ct_srv_dst         175341 non-null  int64  \n",
      " 41  is_sm_ips_ports    175341 non-null  int64  \n",
      " 42  attack_cat         175341 non-null  int64  \n",
      "dtypes: float64(11), int64(32)\n",
      "memory usage: 57.5 MB\n"
     ]
    }
   ],
   "source": [
    "ds.info()"
   ]
  },
  {
   "cell_type": "code",
   "execution_count": 12,
   "metadata": {
    "colab": {
     "base_uri": "https://localhost:8080/"
    },
    "id": "EJ5NdEv3g09a",
    "outputId": "279cee34-fed1-41e4-a63c-2f8198429313"
   },
   "outputs": [
    {
     "data": {
      "text/plain": [
       "6    56000\n",
       "5    40000\n",
       "3    33393\n",
       "4    18184\n",
       "2    12264\n",
       "7    10491\n",
       "0     2000\n",
       "1     1746\n",
       "8     1133\n",
       "9      130\n",
       "Name: attack_cat, dtype: int64"
      ]
     },
     "execution_count": 12,
     "metadata": {
      "tags": []
     },
     "output_type": "execute_result"
    }
   ],
   "source": [
    "ds['attack_cat'].value_counts()"
   ]
  },
  {
   "cell_type": "code",
   "execution_count": 13,
   "metadata": {
    "colab": {
     "base_uri": "https://localhost:8080/",
     "height": 454
    },
    "id": "J_7FilJodJe2",
    "outputId": "8e4ec682-9d9c-44ed-8da8-98470079ee34"
   },
   "outputs": [
    {
     "data": {
      "image/png": "[encoded data removed]",
      "text/plain": [
       "<Figure size 576x432 with 2 Axes>"
      ]
     },
     "metadata": {
      "needs_background": "light",
      "tags": []
     },
     "output_type": "display_data"
    }
   ],
   "source": [
    "fig = plt.figure(figsize=(8,6))\n",
    "sns.heatmap(ds.corr(method = 'pearson'), square= True, cmap=\"YlGnBu\")\n",
    "plt.show()"
   ]
  },
  {
   "cell_type": "code",
   "execution_count": 14,
   "metadata": {
    "colab": {
     "base_uri": "https://localhost:8080/"
    },
    "id": "YMDgSQyufQgO",
    "outputId": "8898a56c-b7b4-4981-eb92-0dae307bccd6"
   },
   "outputs": [
    {
     "name": "stdout",
     "output_type": "stream",
     "text": [
      "attack_cat           1.000000\n",
      "dload                0.225681\n",
      "proto                0.174490\n",
      "ct_srv_src           0.133634\n",
      "ct_srv_dst           0.129696\n",
      "ct_dst_ltm           0.127281\n",
      "swin                 0.116306\n",
      "dmean                0.109198\n",
      "dwin                 0.108099\n",
      "is_sm_ips_ports      0.107282\n",
      "sinpkt               0.099613\n",
      "stcpb                0.087037\n",
      "ct_src_dport_ltm     0.085136\n",
      "ct_src_ltm           0.084740\n",
      "dtcpb                0.084535\n",
      "ct_dst_src_ltm       0.070692\n",
      "ct_dst_sport_ltm     0.064751\n",
      "dpkts                0.035163\n",
      "dloss                0.027306\n",
      "dbytes               0.021859\n",
      "dinpkt               0.006612\n",
      "response_body_len    0.003198\n",
      "djit                 0.001956\n",
      "spkts               -0.008428\n",
      "sjit                -0.008554\n",
      "sloss               -0.031339\n",
      "sbytes              -0.040022\n",
      "ct_ftp_cmd          -0.040575\n",
      "is_ftp_login        -0.040575\n",
      "trans_depth         -0.047626\n",
      "service             -0.056009\n",
      "synack              -0.092131\n",
      "dur                 -0.097825\n",
      "smean               -0.100486\n",
      "tcprtt              -0.111309\n",
      "ct_flw_http_mthd    -0.111930\n",
      "sload               -0.112193\n",
      "rate                -0.117025\n",
      "ackdat              -0.119348\n",
      "dttl                -0.146095\n",
      "state               -0.237008\n",
      "sttl                -0.273835\n",
      "ct_state_ttl        -0.302136\n",
      "Name: attack_cat, dtype: float64\n"
     ]
    }
   ],
   "source": [
    "corr_matrix = ds.corr()\n",
    "corr_to_target = corr_matrix['attack_cat'].sort_values(ascending=False)\n",
    "print(corr_to_target)"
   ]
  },
  {
   "cell_type": "code",
   "execution_count": 15,
   "metadata": {
    "colab": {
     "base_uri": "https://localhost:8080/"
    },
    "id": "xYnT0dmofWWd",
    "outputId": "fa76a8da-ef6d-4608-8757-fdc9da1d3db9"
   },
   "outputs": [
    {
     "data": {
      "text/plain": [
       "(175341, 43)"
      ]
     },
     "execution_count": 15,
     "metadata": {
      "tags": []
     },
     "output_type": "execute_result"
    }
   ],
   "source": [
    "ds.shape"
   ]
  },
  {
   "cell_type": "code",
   "execution_count": 16,
   "metadata": {
    "id": "-qhjIXHXdIi1"
   },
   "outputs": [],
   "source": [
    "columnNames = ds.columns.values\n",
    "for name in columnNames:\n",
    "    if(corr_to_target[name] < 0.1 and corr_to_target[name] > -0.1):\n",
    "        ds.drop(columns = name, inplace = True)"
   ]
  },
  {
   "cell_type": "code",
   "execution_count": 17,
   "metadata": {
    "colab": {
     "base_uri": "https://localhost:8080/"
    },
    "id": "aU9ZuakOf6vm",
    "outputId": "1a094fd9-0b42-4f64-afee-1a8a889706e4"
   },
   "outputs": [
    {
     "data": {
      "text/plain": [
       "(175341, 20)"
      ]
     },
     "execution_count": 17,
     "metadata": {
      "tags": []
     },
     "output_type": "execute_result"
    }
   ],
   "source": [
    "ds.shape"
   ]
  },
  {
   "cell_type": "code",
   "execution_count": 18,
   "metadata": {
    "colab": {
     "base_uri": "https://localhost:8080/",
     "height": 454
    },
    "id": "h8Q4YuKAf-CL",
    "outputId": "060bca40-d7b9-4c8c-c984-803bd1f7027c"
   },
   "outputs": [
    {
     "data": {
      "image/png": "[encoded data removed]",
      "text/plain": [
       "<Figure size 576x432 with 2 Axes>"
      ]
     },
     "metadata": {
      "needs_background": "light",
      "tags": []
     },
     "output_type": "display_data"
    }
   ],
   "source": [
    "fig = plt.figure(figsize=(8,6))\n",
    "sns.heatmap(ds.corr(method = 'pearson'), square= True, cmap=\"YlGnBu\")\n",
    "plt.show()"
   ]
  },
  {
   "cell_type": "code",
   "execution_count": 19,
   "metadata": {
    "id": "_nU4CpaHgDxb"
   },
   "outputs": [],
   "source": [
    "check_corr = corr_matrix['dttl'].sort_values(ascending=False)\n",
    "#check_corr"
   ]
  },
  {
   "cell_type": "code",
   "execution_count": 20,
   "metadata": {
    "id": "pGNlhVKSgfL2"
   },
   "outputs": [],
   "source": [
    "columnNames = ds.columns.values\n",
    "for name in columnNames:\n",
    "    if(check_corr[name] > 0.65 or check_corr[name] <-0.65):\n",
    "        ds.drop(columns = name, inplace = True)"
   ]
  },
  {
   "cell_type": "code",
   "execution_count": 21,
   "metadata": {
    "id": "KhBlrlN1g-5S"
   },
   "outputs": [],
   "source": [
    "check_corr = corr_matrix['swin'].sort_values(ascending=False)\n",
    "#check_corr"
   ]
  },
  {
   "cell_type": "code",
   "execution_count": 22,
   "metadata": {
    "id": "5DIqrNrGhZXk"
   },
   "outputs": [],
   "source": [
    "columnNames = ds.columns.values\n",
    "for name in columnNames:\n",
    "    if(check_corr[name] > 0.65 or check_corr[name] <-0.65):\n",
    "        ds.drop(columns = name, inplace = True)"
   ]
  },
  {
   "cell_type": "code",
   "execution_count": 23,
   "metadata": {
    "id": "FscpYin4hbeP"
   },
   "outputs": [],
   "source": [
    "check_corr = corr_matrix['ct_srv_src'].sort_values(ascending=False)\n",
    "#check_corr"
   ]
  },
  {
   "cell_type": "code",
   "execution_count": 24,
   "metadata": {
    "id": "RTodsBfshowa"
   },
   "outputs": [],
   "source": [
    "columnNames = ds.columns.values\n",
    "for name in columnNames:\n",
    "    if(check_corr[name] > 0.65 or check_corr[name] <-0.65):\n",
    "        ds.drop(columns = name, inplace = True)"
   ]
  },
  {
   "cell_type": "code",
   "execution_count": 25,
   "metadata": {
    "colab": {
     "base_uri": "https://localhost:8080/"
    },
    "id": "BU2uiz8Nh1E-",
    "outputId": "e73f5419-195f-4301-b8ef-5237ac538cb5"
   },
   "outputs": [
    {
     "data": {
      "text/plain": [
       "state                1.000000\n",
       "ct_state_ttl         0.759825\n",
       "sttl                 0.584697\n",
       "rate                 0.432307\n",
       "ct_dst_src_ltm       0.429906\n",
       "ct_dst_sport_ltm     0.408662\n",
       "ct_srv_dst           0.387446\n",
       "ct_srv_src           0.385515\n",
       "ct_src_dport_ltm     0.372309\n",
       "ct_dst_ltm           0.328748\n",
       "ct_src_ltm           0.323019\n",
       "sload                0.292570\n",
       "dur                  0.103443\n",
       "sinpkt               0.095492\n",
       "is_sm_ips_ports      0.094198\n",
       "response_body_len   -0.025541\n",
       "sjit                -0.045441\n",
       "sbytes              -0.049300\n",
       "is_ftp_login        -0.051970\n",
       "ct_ftp_cmd          -0.051970\n",
       "trans_depth         -0.056128\n",
       "dbytes              -0.059759\n",
       "sloss               -0.060125\n",
       "djit                -0.064747\n",
       "smean               -0.070796\n",
       "dloss               -0.071056\n",
       "dinpkt              -0.076235\n",
       "spkts               -0.078701\n",
       "ct_flw_http_mthd    -0.078856\n",
       "dpkts               -0.098268\n",
       "service             -0.144978\n",
       "dload               -0.150501\n",
       "proto               -0.172441\n",
       "attack_cat          -0.237008\n",
       "dmean               -0.256392\n",
       "synack              -0.261882\n",
       "ackdat              -0.264946\n",
       "tcprtt              -0.278469\n",
       "dtcpb               -0.313922\n",
       "stcpb               -0.314361\n",
       "swin                -0.367493\n",
       "dttl                -0.375533\n",
       "dwin                -0.397710\n",
       "Name: state, dtype: float64"
      ]
     },
     "execution_count": 25,
     "metadata": {
      "tags": []
     },
     "output_type": "execute_result"
    }
   ],
   "source": [
    "check_corr = corr_matrix['state'].sort_values(ascending=False)\n",
    "check_corr"
   ]
  },
  {
   "cell_type": "code",
   "execution_count": 26,
   "metadata": {
    "id": "I0rocYaTh087"
   },
   "outputs": [],
   "source": [
    "columnNames = ds.columns.values\n",
    "for name in columnNames:\n",
    "    if(check_corr[name] > 0.65 or check_corr[name] <-0.65):\n",
    "        ds.drop(columns = name, inplace = True)"
   ]
  },
  {
   "cell_type": "code",
   "execution_count": 27,
   "metadata": {
    "colab": {
     "base_uri": "https://localhost:8080/",
     "height": 454
    },
    "id": "fVkFWvVdhtwu",
    "outputId": "6a83a9f9-2851-48f4-8d67-8e04a2f01742"
   },
   "outputs": [
    {
     "data": {
      "image/png": "[encoded data removed]",
      "text/plain": [
       "<Figure size 576x432 with 2 Axes>"
      ]
     },
     "metadata": {
      "needs_background": "light",
      "tags": []
     },
     "output_type": "display_data"
    }
   ],
   "source": [
    "fig = plt.figure(figsize=(8,6))\n",
    "sns.heatmap(ds.corr(method = 'pearson'), square= True, cmap=\"YlGnBu\")\n",
    "plt.show()"
   ]
  },
  {
   "cell_type": "code",
   "execution_count": 28,
   "metadata": {
    "colab": {
     "base_uri": "https://localhost:8080/"
    },
    "id": "18nHXcLgiiRK",
    "outputId": "5d232b6a-9e44-4d4b-fd80-f9dfb0c2e0e3"
   },
   "outputs": [
    {
     "data": {
      "text/plain": [
       "(175341, 10)"
      ]
     },
     "execution_count": 28,
     "metadata": {
      "tags": []
     },
     "output_type": "execute_result"
    }
   ],
   "source": [
    "ds.shape"
   ]
  },
  {
   "cell_type": "markdown",
   "metadata": {
    "id": "8k7I6WPage_u"
   },
   "source": [
    "# Visualize the Data"
   ]
  },
  {
   "cell_type": "code",
   "execution_count": 29,
   "metadata": {
    "colab": {
     "base_uri": "https://localhost:8080/",
     "height": 616
    },
    "id": "Z4AZg8Mhebrr",
    "outputId": "c1dc1bae-4655-4463-a5e3-5d165cfce4ec"
   },
   "outputs": [
    {
     "data": {
      "text/plain": [
       "(-1.1095978359249108,\n",
       " 1.1060804304931926,\n",
       " -1.1281172238311385,\n",
       " 1.1013389154422457)"
      ]
     },
     "execution_count": 29,
     "metadata": {
      "tags": []
     },
     "output_type": "execute_result"
    },
    {
     "data": {
      "image/png": "[encoded data removed]",
      "text/plain": [
       "<Figure size 7200x1440 with 1 Axes>"
      ]
     },
     "metadata": {
      "tags": []
     },
     "output_type": "display_data"
    }
   ],
   "source": [
    "plt.figure(figsize = (100,20))\n",
    "plot_params1 = {'kind':'pie', 'startangle': 90, 'autopct':'%1.1f%%'}\n",
    "\n",
    "plt.subplot2grid((2,4), (0,0))\n",
    "ds.attack_cat.value_counts() \\\n",
    ".plot(title='Attacks', **plot_params1).axis('equal')"
   ]
  },
  {
   "cell_type": "markdown",
   "metadata": {
    "id": "m0Y-kuhGjDgP"
   },
   "source": [
    "# Preprocessing"
   ]
  },
  {
   "cell_type": "code",
   "execution_count": 30,
   "metadata": {
    "colab": {
     "base_uri": "https://localhost:8080/"
    },
    "id": "-0N3oXBTyFNp",
    "outputId": "73f20c03-207e-454e-ebf5-ac0d85ee4f69"
   },
   "outputs": [
    {
     "name": "stdout",
     "output_type": "stream",
     "text": [
      "proto -3.5779875353944783\n",
      "rate 3.3194945898084494\n",
      "sttl -0.6781092365887204\n",
      "sload 8.703398789576552\n",
      "dload 4.691217092888466\n",
      "smean 3.72662255685938\n",
      "dmean 2.8261458622156623\n",
      "ct_flw_http_mthd 23.451424399654755\n",
      "is_sm_ips_ports 7.778199328704083\n",
      "attack_cat -0.541630022459375\n"
     ]
    }
   ],
   "source": [
    "columnNames = ds.columns.values\n",
    "for name in columnNames:\n",
    "  skewed= ds[name].skew()\n",
    "  print(name, skewed)"
   ]
  },
  {
   "cell_type": "code",
   "execution_count": 31,
   "metadata": {
    "id": "shJy2mJG17I2"
   },
   "outputs": [],
   "source": [
    "preds = ds.copy()"
   ]
  },
  {
   "cell_type": "code",
   "execution_count": 32,
   "metadata": {
    "colab": {
     "base_uri": "https://localhost:8080/"
    },
    "id": "wPWAftE60cYx",
    "outputId": "2613074e-9bdd-423a-fccf-fb139258f91d"
   },
   "outputs": [
    {
     "name": "stdout",
     "output_type": "stream",
     "text": [
      "0         1.415894e+04\n",
      "1         8.395112e+03\n",
      "2         1.572272e+03\n",
      "3         2.740179e+03\n",
      "4         8.561499e+03\n",
      "              ...     \n",
      "175336    5.066666e+07\n",
      "175337    8.826286e+03\n",
      "175338    5.066666e+07\n",
      "175339    5.066666e+07\n",
      "175340    5.066666e+07\n",
      "Name: sload, Length: 175341, dtype: float64\n",
      "0          118.991354\n",
      "1           91.624845\n",
      "2           39.651883\n",
      "3           52.346719\n",
      "4           92.528369\n",
      "             ...     \n",
      "175336    7118.051981\n",
      "175337      93.948316\n",
      "175338    7118.051981\n",
      "175339    7118.051981\n",
      "175340    7118.051981\n",
      "Name: sload, Length: 175341, dtype: float64\n"
     ]
    },
    {
     "data": {
      "text/plain": [
       "1.9271885128948123"
      ]
     },
     "execution_count": 32,
     "metadata": {
      "tags": []
     },
     "output_type": "execute_result"
    }
   ],
   "source": [
    "print(preds['sload'])\n",
    "preds['sload'] = np.sqrt(preds['sload'])\n",
    "print(preds['sload'])\n",
    "preds['sload'].skew()"
   ]
  },
  {
   "cell_type": "code",
   "execution_count": 33,
   "metadata": {
    "colab": {
     "base_uri": "https://localhost:8080/"
    },
    "id": "4asYBMbyxwgC",
    "outputId": "0608b430-429b-40f2-94fb-6296a5d8a94e"
   },
   "outputs": [
    {
     "name": "stdout",
     "output_type": "stream",
     "text": [
      "0         0\n",
      "1         0\n",
      "2         0\n",
      "3         0\n",
      "4         0\n",
      "         ..\n",
      "175336    0\n",
      "175337    0\n",
      "175338    0\n",
      "175339    0\n",
      "175340    0\n",
      "Name: ct_flw_http_mthd, Length: 175341, dtype: int64\n",
      "0         0.0\n",
      "1         0.0\n",
      "2         0.0\n",
      "3         0.0\n",
      "4         0.0\n",
      "         ... \n",
      "175336    0.0\n",
      "175337    0.0\n",
      "175338    0.0\n",
      "175339    0.0\n",
      "175340    0.0\n",
      "Name: ct_flw_http_mthd, Length: 175341, dtype: float64\n"
     ]
    },
    {
     "data": {
      "text/plain": [
       "3.9978567182335225"
      ]
     },
     "execution_count": 33,
     "metadata": {
      "tags": []
     },
     "output_type": "execute_result"
    }
   ],
   "source": [
    "print(preds['ct_flw_http_mthd'])\n",
    "preds['ct_flw_http_mthd'] = np.sqrt(preds['ct_flw_http_mthd'])\n",
    "print(preds['ct_flw_http_mthd'])\n",
    "preds['ct_flw_http_mthd'].skew()"
   ]
  },
  {
   "cell_type": "code",
   "execution_count": 34,
   "metadata": {
    "colab": {
     "base_uri": "https://localhost:8080/"
    },
    "id": "_HYw3b02Rj39",
    "outputId": "4694281c-1b20-4343-d1ce-884bbd59375f"
   },
   "outputs": [
    {
     "data": {
      "text/plain": [
       "6    56000\n",
       "5    40000\n",
       "3    33393\n",
       "4    18184\n",
       "2    12264\n",
       "7    10491\n",
       "0     2000\n",
       "1     1746\n",
       "8     1133\n",
       "9      130\n",
       "Name: attack_cat, dtype: int64"
      ]
     },
     "execution_count": 34,
     "metadata": {
      "tags": []
     },
     "output_type": "execute_result"
    }
   ],
   "source": [
    "preds['attack_cat'].value_counts()"
   ]
  },
  {
   "cell_type": "code",
   "execution_count": 35,
   "metadata": {
    "id": "fPcVAzm6VhPF"
   },
   "outputs": [],
   "source": [
    "preds.to_csv('modified.csv')"
   ]
  },
  {
   "cell_type": "markdown",
   "metadata": {
    "id": "FZKbTHiWpB7j"
   },
   "source": [
    "# First learning"
   ]
  },
  {
   "cell_type": "code",
   "execution_count": 36,
   "metadata": {
    "id": "AoN8ffYso6Ag"
   },
   "outputs": [],
   "source": [
    "first_ds = pd.read_csv(\"/content/Reduced.csv\")"
   ]
  },
  {
   "cell_type": "code",
   "execution_count": 37,
   "metadata": {
    "id": "OLRpr-YFjCzl"
   },
   "outputs": [],
   "source": [
    "X = first_ds.iloc[:,:-1].values\n",
    "y = first_ds.iloc[:, -1].values"
   ]
  },
  {
   "cell_type": "code",
   "execution_count": 38,
   "metadata": {
    "colab": {
     "base_uri": "https://localhost:8080/"
    },
    "id": "2FReXioojMeS",
    "outputId": "e943e809-d09b-4de6-fc5d-ed46b940a3fd"
   },
   "outputs": [
    {
     "data": {
      "text/plain": [
       "array([1.00000000e+00, 1.13000000e+02, 7.84733720e+01, 6.20000000e+01,\n",
       "       9.16248455e+01, 5.03571312e+05, 5.20000000e+01, 1.10600000e+03,\n",
       "       0.00000000e+00, 0.00000000e+00])"
      ]
     },
     "execution_count": 38,
     "metadata": {
      "tags": []
     },
     "output_type": "execute_result"
    }
   ],
   "source": [
    "X[1]"
   ]
  },
  {
   "cell_type": "code",
   "execution_count": 39,
   "metadata": {
    "id": "GNgiQ_JNjMbg"
   },
   "outputs": [],
   "source": [
    "scaler = StandardScaler()\n",
    "X = scaler.fit_transform(X)"
   ]
  },
  {
   "cell_type": "code",
   "execution_count": 40,
   "metadata": {
    "colab": {
     "base_uri": "https://localhost:8080/"
    },
    "id": "uydF0KKDjMX1",
    "outputId": "5c6c8e18-4e92-4b8c-b1ce-4d7e7138de09"
   },
   "outputs": [
    {
     "data": {
      "text/plain": [
       "array([-1.73202117,  0.15180939, -0.57634475, -1.1419013 , -0.76351061,\n",
       "       -0.06923301, -0.41407614,  3.80086949, -0.31636139, -0.12650796])"
      ]
     },
     "execution_count": 40,
     "metadata": {
      "tags": []
     },
     "output_type": "execute_result"
    }
   ],
   "source": [
    "X[1]"
   ]
  },
  {
   "cell_type": "code",
   "execution_count": 41,
   "metadata": {
    "colab": {
     "base_uri": "https://localhost:8080/"
    },
    "id": "5ZXRfJV2KXYo",
    "outputId": "bc9fe4af-0a4e-423f-d2f4-133a5011c5df"
   },
   "outputs": [
    {
     "name": "stderr",
     "output_type": "stream",
     "text": [
      "/usr/local/lib/python3.7/dist-packages/sklearn/utils/deprecation.py:87: FutureWarning: Function safe_indexing is deprecated; safe_indexing is deprecated in version 0.22 and will be removed in version 0.24.\n",
      "  warnings.warn(msg, category=FutureWarning)\n"
     ]
    }
   ],
   "source": [
    "tl = TomekLinks(sampling_strategy='majority')\n",
    "x_rus, y_rus = tl.fit_resample(X, y)"
   ]
  },
  {
   "cell_type": "code",
   "execution_count": 42,
   "metadata": {
    "colab": {
     "base_uri": "https://localhost:8080/"
    },
    "id": "KxMyBocCK0r5",
    "outputId": "f3b74835-0556-4263-f353-398205e42cc3"
   },
   "outputs": [
    {
     "name": "stdout",
     "output_type": "stream",
     "text": [
      "(174992, 10)\n",
      "(175341, 10)\n"
     ]
    }
   ],
   "source": [
    "print(x_rus.shape)\n",
    "print(X.shape)"
   ]
  },
  {
   "cell_type": "code",
   "execution_count": 43,
   "metadata": {
    "id": "7tHf7ydRjhEr"
   },
   "outputs": [],
   "source": [
    "## Splitting the data \n",
    "sss = StratifiedShuffleSplit(n_splits=2, test_size=0.3, random_state=32)\n",
    "for train_index, test_index in sss.split(X,y):\n",
    "    X_train, X_test = X[train_index], X[test_index]\n",
    "    y_train, y_test = y[train_index], y[test_index]"
   ]
  },
  {
   "cell_type": "markdown",
   "metadata": {
    "id": "NC4NKLnjn7Tr"
   },
   "source": [
    "## Label Propagation (Semi)"
   ]
  },
  {
   "cell_type": "code",
   "execution_count": 44,
   "metadata": {
    "id": "h-a35GhaPE44"
   },
   "outputs": [],
   "source": [
    "sss = StratifiedShuffleSplit(n_splits=2, test_size=0.9, random_state=32)\n",
    "for train_index, test_index in sss.split(x_rus,y_rus):\n",
    "    X_strain, X_stest = x_rus[train_index], x_rus[test_index]\n",
    "    y_strain, y_stest = y_rus[train_index], y_rus[test_index]"
   ]
  },
  {
   "cell_type": "code",
   "execution_count": 45,
   "metadata": {
    "id": "1k_V5fXZoEuh"
   },
   "outputs": [],
   "source": [
    "from sklearn.semi_supervised import LabelSpreading"
   ]
  },
  {
   "cell_type": "code",
   "execution_count": 46,
   "metadata": {
    "id": "qPQAN5rtn6Bh"
   },
   "outputs": [],
   "source": [
    "semi = LabelSpreading(kernel='rbf', max_iter=20, n_jobs = 4)"
   ]
  },
  {
   "cell_type": "code",
   "execution_count": 47,
   "metadata": {
    "colab": {
     "base_uri": "https://localhost:8080/"
    },
    "id": "X-rhbzmKoKG2",
    "outputId": "0d1f1545-f52b-431a-90eb-686555aba429"
   },
   "outputs": [
    {
     "data": {
      "text/plain": [
       "LabelSpreading(alpha=0.2, gamma=20, kernel='rbf', max_iter=20, n_jobs=4,\n",
       "               n_neighbors=7, tol=0.001)"
      ]
     },
     "execution_count": 47,
     "metadata": {
      "tags": []
     },
     "output_type": "execute_result"
    }
   ],
   "source": [
    "semi.fit(X_strain, y_strain)"
   ]
  },
  {
   "cell_type": "code",
   "execution_count": 48,
   "metadata": {
    "id": "kDugn8FIoOjl"
   },
   "outputs": [],
   "source": [
    "y_pred = semi.predict(X_test)"
   ]
  },
  {
   "cell_type": "code",
   "execution_count": 49,
   "metadata": {
    "colab": {
     "base_uri": "https://localhost:8080/"
    },
    "id": "teGpm7Lmo9mt",
    "outputId": "a9569cba-6f06-4b5c-9cd0-ed34f4caaabb"
   },
   "outputs": [
    {
     "name": "stdout",
     "output_type": "stream",
     "text": [
      "              precision    recall  f1-score   support\n",
      "\n",
      "           0       0.30      0.06      0.10      1503\n",
      "           2       0.35      0.19      0.24      3679\n",
      "           3       0.60      0.79      0.68     10018\n",
      "           4       0.52      0.69      0.60      5455\n",
      "           5       0.93      0.98      0.96     12000\n",
      "           6       0.94      0.93      0.94     16800\n",
      "           7       0.71      0.13      0.22      3148\n",
      "\n",
      "    accuracy                           0.77     52603\n",
      "   macro avg       0.62      0.54      0.53     52603\n",
      "weighted avg       0.76      0.77      0.74     52603\n",
      "\n"
     ]
    }
   ],
   "source": [
    "print(metrics.classification_report(y_test,y_pred))"
   ]
  },
  {
   "cell_type": "code",
   "execution_count": 50,
   "metadata": {
    "colab": {
     "base_uri": "https://localhost:8080/",
     "height": 284
    },
    "id": "FevKFfLLpCv1",
    "outputId": "098c29e6-a1d8-4d2b-c803-d5992fbddd86"
   },
   "outputs": [
    {
     "data": {
      "text/plain": [
       "<matplotlib.axes._subplots.AxesSubplot at 0x7f38e3f7cbd0>"
      ]
     },
     "execution_count": 50,
     "metadata": {
      "tags": []
     },
     "output_type": "execute_result"
    },
    {
     "data": {
      "image/png": "[encoded data removed]",
      "text/plain": [
       "<Figure size 432x288 with 2 Axes>"
      ]
     },
     "metadata": {
      "needs_background": "light",
      "tags": []
     },
     "output_type": "display_data"
    }
   ],
   "source": [
    "sns.heatmap(metrics.confusion_matrix(y_test, y_pred), annot=True)"
   ]
  },
  {
   "cell_type": "markdown",
   "metadata": {
    "id": "Sowzh1mJpd5v"
   },
   "source": [
    "# Second Learning"
   ]
  },
  {
   "cell_type": "code",
   "execution_count": 51,
   "metadata": {
    "id": "StCXrS22po7_"
   },
   "outputs": [],
   "source": [
    "second_ds = pd.read_csv(\"/content/limited.csv\")"
   ]
  },
  {
   "cell_type": "code",
   "execution_count": 52,
   "metadata": {
    "id": "sT0f-WeFpo8A"
   },
   "outputs": [],
   "source": [
    "X = second_ds.iloc[:,:-1].values\n",
    "y = second_ds.iloc[:, -1].values"
   ]
  },
  {
   "cell_type": "code",
   "execution_count": 53,
   "metadata": {
    "colab": {
     "base_uri": "https://localhost:8080/"
    },
    "id": "fsKYgrSBpo8A",
    "outputId": "7c417653-4411-43dc-aaca-f71870f281b3"
   },
   "outputs": [
    {
     "data": {
      "text/plain": [
       "array([4.79120000e+04, 5.30000000e+01, 1.11111107e+05, 2.54000000e+02,\n",
       "       9.42809037e+03, 0.00000000e+00, 1.00000000e+02, 0.00000000e+00,\n",
       "       0.00000000e+00, 0.00000000e+00])"
      ]
     },
     "execution_count": 53,
     "metadata": {
      "tags": []
     },
     "output_type": "execute_result"
    }
   ],
   "source": [
    "X[1]"
   ]
  },
  {
   "cell_type": "code",
   "execution_count": 54,
   "metadata": {
    "id": "8zrU3UDkpo8B"
   },
   "outputs": [],
   "source": [
    "scaler = StandardScaler()\n",
    "X = scaler.fit_transform(X)"
   ]
  },
  {
   "cell_type": "code",
   "execution_count": 55,
   "metadata": {
    "colab": {
     "base_uri": "https://localhost:8080/"
    },
    "id": "UutIL06Opo8C",
    "outputId": "a2d0f957-7273-4bae-81e8-1bfa29ed8acd"
   },
   "outputs": [
    {
     "data": {
      "text/plain": [
       "array([-1.39140357, -1.59689602, -0.11142329,  0.37176171,  0.1889884 ,\n",
       "       -0.11598206, -0.10141005, -0.32307129, -0.33352652,  0.        ])"
      ]
     },
     "execution_count": 55,
     "metadata": {
      "tags": []
     },
     "output_type": "execute_result"
    }
   ],
   "source": [
    "X[1]"
   ]
  },
  {
   "cell_type": "code",
   "execution_count": 56,
   "metadata": {
    "colab": {
     "base_uri": "https://localhost:8080/"
    },
    "id": "6QfO3mawpo8D",
    "outputId": "2b5ef22a-f3dc-4044-dd27-36d11cdc0585"
   },
   "outputs": [
    {
     "name": "stderr",
     "output_type": "stream",
     "text": [
      "/usr/local/lib/python3.7/dist-packages/sklearn/utils/deprecation.py:87: FutureWarning: Function safe_indexing is deprecated; safe_indexing is deprecated in version 0.22 and will be removed in version 0.24.\n",
      "  warnings.warn(msg, category=FutureWarning)\n"
     ]
    }
   ],
   "source": [
    "tl = TomekLinks(sampling_strategy='majority')\n",
    "x_rus, y_rus = tl.fit_resample(X, y)"
   ]
  },
  {
   "cell_type": "code",
   "execution_count": 57,
   "metadata": {
    "colab": {
     "base_uri": "https://localhost:8080/"
    },
    "id": "OcFDVM-lpo8D",
    "outputId": "09275ba8-ed90-4b24-92c7-4d7fdb87afea"
   },
   "outputs": [
    {
     "name": "stdout",
     "output_type": "stream",
     "text": [
      "(4467, 10)\n",
      "(5009, 10)\n"
     ]
    }
   ],
   "source": [
    "print(x_rus.shape)\n",
    "print(X.shape)"
   ]
  },
  {
   "cell_type": "code",
   "execution_count": 58,
   "metadata": {
    "id": "UcvOBHp3po8D"
   },
   "outputs": [],
   "source": [
    "## Splitting the data \n",
    "sss = StratifiedShuffleSplit(n_splits=2, test_size=0.3, random_state=32)\n",
    "for train_index, test_index in sss.split(X,y):\n",
    "    X_train, X_test = X[train_index], X[test_index]\n",
    "    y_train, y_test = y[train_index], y[test_index]"
   ]
  },
  {
   "cell_type": "markdown",
   "metadata": {
    "id": "_4NjTMSnpo8E"
   },
   "source": [
    "## Label Propagation (Semi)"
   ]
  },
  {
   "cell_type": "code",
   "execution_count": 59,
   "metadata": {
    "id": "qWj5zgwspo8F"
   },
   "outputs": [],
   "source": [
    "sss = StratifiedShuffleSplit(n_splits=2, test_size=0.9, random_state=32)\n",
    "for train_index, test_index in sss.split(x_rus,y_rus):\n",
    "    X_strain, X_stest = x_rus[train_index], x_rus[test_index]\n",
    "    y_strain, y_stest = y_rus[train_index], y_rus[test_index]"
   ]
  },
  {
   "cell_type": "code",
   "execution_count": 60,
   "metadata": {
    "id": "tmYtATnopo8F"
   },
   "outputs": [],
   "source": [
    "from sklearn.semi_supervised import LabelSpreading"
   ]
  },
  {
   "cell_type": "code",
   "execution_count": 61,
   "metadata": {
    "id": "9mw5Lgeepo8F"
   },
   "outputs": [],
   "source": [
    "semi = LabelSpreading(kernel='rbf', max_iter=20, n_jobs = 4)"
   ]
  },
  {
   "cell_type": "code",
   "execution_count": 62,
   "metadata": {
    "colab": {
     "base_uri": "https://localhost:8080/"
    },
    "id": "8pMS7T-npo8F",
    "outputId": "d20d2d7a-498a-4a6c-9e6f-c2e5a8cfd59b"
   },
   "outputs": [
    {
     "data": {
      "text/plain": [
       "LabelSpreading(alpha=0.2, gamma=20, kernel='rbf', max_iter=20, n_jobs=4,\n",
       "               n_neighbors=7, tol=0.001)"
      ]
     },
     "execution_count": 62,
     "metadata": {
      "tags": []
     },
     "output_type": "execute_result"
    }
   ],
   "source": [
    "semi.fit(X_train, y_train)"
   ]
  },
  {
   "cell_type": "code",
   "execution_count": 63,
   "metadata": {
    "id": "MoF1mT8apo8G"
   },
   "outputs": [],
   "source": [
    "y_pred = semi.predict(X_test)"
   ]
  },
  {
   "cell_type": "code",
   "execution_count": 64,
   "metadata": {
    "colab": {
     "base_uri": "https://localhost:8080/"
    },
    "id": "90d2f7Lmpo8G",
    "outputId": "b9bc9c89-bab6-42bf-ab8d-e298aa5af5b1"
   },
   "outputs": [
    {
     "name": "stdout",
     "output_type": "stream",
     "text": [
      "              precision    recall  f1-score   support\n",
      "\n",
      "           0       0.56      0.65      0.60       600\n",
      "           1       0.49      0.42      0.45       524\n",
      "           8       0.85      0.82      0.84       340\n",
      "           9       0.89      0.79      0.84        39\n",
      "\n",
      "    accuracy                           0.61      1503\n",
      "   macro avg       0.70      0.67      0.68      1503\n",
      "weighted avg       0.61      0.61      0.61      1503\n",
      "\n"
     ]
    }
   ],
   "source": [
    "print(metrics.classification_report(y_test,y_pred))"
   ]
  },
  {
   "cell_type": "code",
   "execution_count": 65,
   "metadata": {
    "colab": {
     "base_uri": "https://localhost:8080/",
     "height": 284
    },
    "id": "z0oXA_C5syZi",
    "outputId": "daeb8892-6f0d-4338-e795-c73e8daace21"
   },
   "outputs": [
    {
     "data": {
      "text/plain": [
       "<matplotlib.axes._subplots.AxesSubplot at 0x7f38e3e106d0>"
      ]
     },
     "execution_count": 65,
     "metadata": {
      "tags": []
     },
     "output_type": "execute_result"
    },
    {
     "data": {
      "image/png": "[encoded data removed]",
      "text/plain": [
       "<Figure size 432x288 with 2 Axes>"
      ]
     },
     "metadata": {
      "needs_background": "light",
      "tags": []
     },
     "output_type": "display_data"
    }
   ],
   "source": [
    "sns.heatmap(metrics.confusion_matrix(y_test, y_pred), annot=True)"
   ]
  }
 ],
 "metadata": {
  "colab": {
   "collapsed_sections": [],
   "name": "NIS proj rev 2.ipynb",
   "provenance": []
  },
  "kernelspec": {
   "display_name": "Python 3",
   "language": "python",
   "name": "python3"
  },
  "language_info": {
   "codemirror_mode": {
    "name": "ipython",
    "version": 3
   },
   "file_extension": ".py",
   "mimetype": "text/x-python",
   "name": "python",
   "nbconvert_exporter": "python",
   "pygments_lexer": "ipython3",
   "version": "3.7.6"
  }
 },
 "nbformat": 4,
 "nbformat_minor": 1
}
